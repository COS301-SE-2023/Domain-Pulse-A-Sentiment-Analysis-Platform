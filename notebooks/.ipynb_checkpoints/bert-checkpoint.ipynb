{
 "cells": [
  {
   "cell_type": "code",
   "execution_count": 30,
   "metadata": {},
   "outputs": [],
   "source": [
    "from transformers import pipeline, AutoModelForSequenceClassification, AutoTokenizer, TextClassificationPipeline, DistilBertTokenizer, DistilBertForSequenceClassification\n",
    "import torch\n",
    "from happytransformer import HappyTextClassification "
   ]
  },
  {
   "cell_type": "code",
   "execution_count": 48,
   "metadata": {},
   "outputs": [],
   "source": [
    "sentimentRecord = \"I love puppies!\""
   ]
  },
  {
   "cell_type": "code",
   "execution_count": 49,
   "metadata": {},
   "outputs": [
    {
     "name": "stderr",
     "output_type": "stream",
     "text": [
      "C:\\Users\\lawso\\anaconda3\\lib\\site-packages\\transformers\\pipelines\\text_classification.py:104: UserWarning: `return_all_scores` is now deprecated,  if want a similar funcionality use `top_k=None` instead of `return_all_scores=True` or `top_k=1` instead of `return_all_scores=False`.\n",
      "  warnings.warn(\n"
     ]
    }
   ],
   "source": [
    "# To classify emotion\n",
    "emotion_classifier = pipeline(\"text-classification\", model=\"j-hartmann/emotion-english-distilroberta-base\", return_all_scores=True)"
   ]
  },
  {
   "cell_type": "code",
   "execution_count": 51,
   "metadata": {},
   "outputs": [
    {
     "data": {
      "text/plain": [
       "[[{'label': 'anger', 'score': 0.0036742445081472397},\n",
       "  {'label': 'disgust', 'score': 0.0012272356543689966},\n",
       "  {'label': 'fear', 'score': 0.0004025532107334584},\n",
       "  {'label': 'joy', 'score': 0.9811904430389404},\n",
       "  {'label': 'neutral', 'score': 0.0029438126366585493},\n",
       "  {'label': 'sadness', 'score': 0.006436426658183336},\n",
       "  {'label': 'surprise', 'score': 0.004125282634049654}]]"
      ]
     },
     "execution_count": 51,
     "metadata": {},
     "output_type": "execute_result"
    }
   ],
   "source": [
    "emotion_metrics = emotion_classifier(sentimentRecord)\n",
    "emotion_metrics"
   ]
  },
  {
   "cell_type": "code",
   "execution_count": 18,
   "metadata": {},
   "outputs": [],
   "source": [
    "# To classify if toxic\n",
    "tokenizer = AutoTokenizer.from_pretrained(\"martin-ha/toxic-comment-model\")\n",
    "toxic_model = AutoModelForSequenceClassification.from_pretrained(\"martin-ha/toxic-comment-model\")\n",
    "toxic_classifier =  TextClassificationPipeline(model=toxic_model, tokenizer=tokenizer)\n"
   ]
  },
  {
   "cell_type": "code",
   "execution_count": 63,
   "metadata": {},
   "outputs": [
    {
     "data": {
      "text/plain": [
       "[{'label': 'non-toxic', 'score': 0.993310809135437}]"
      ]
     },
     "execution_count": 63,
     "metadata": {},
     "output_type": "execute_result"
    }
   ],
   "source": [
    "toxic_metrics = toxic_classifier(sentimentRecord)\n",
    "toxic_metrics"
   ]
  },
  {
   "cell_type": "code",
   "execution_count": 46,
   "metadata": {},
   "outputs": [
    {
     "name": "stderr",
     "output_type": "stream",
     "text": [
      "05/28/2023 12:01:01 - INFO - happytransformer.happy_transformer -   Using model: cpu\n"
     ]
    }
   ],
   "source": [
    "# For overall positive or negative\n",
    "happy_tc = HappyTextClassification(model_type=\"DISTILBERT\", model_name=\"distilbert-base-uncased-finetuned-sst-2-english\", num_labels=2)"
   ]
  },
  {
   "cell_type": "code",
   "execution_count": 59,
   "metadata": {},
   "outputs": [
    {
     "ename": "TypeError",
     "evalue": "'TextClassificationResult' object is not iterable",
     "output_type": "error",
     "traceback": [
      "\u001b[1;31m---------------------------------------------------------------------------\u001b[0m",
      "\u001b[1;31mTypeError\u001b[0m                                 Traceback (most recent call last)",
      "\u001b[1;32m~\\AppData\\Local\\Temp\\ipykernel_24816\\807442272.py\u001b[0m in \u001b[0;36m<module>\u001b[1;34m\u001b[0m\n\u001b[0;32m      1\u001b[0m \u001b[0moverall_metrics\u001b[0m \u001b[1;33m=\u001b[0m \u001b[0mhappy_tc\u001b[0m\u001b[1;33m.\u001b[0m\u001b[0mclassify_text\u001b[0m\u001b[1;33m(\u001b[0m\u001b[0msentimentRecord\u001b[0m\u001b[1;33m)\u001b[0m\u001b[1;33m\u001b[0m\u001b[1;33m\u001b[0m\u001b[0m\n\u001b[1;32m----> 2\u001b[1;33m \u001b[0mdict\u001b[0m\u001b[1;33m(\u001b[0m\u001b[0moverall_metrics\u001b[0m\u001b[1;33m)\u001b[0m\u001b[1;33m\u001b[0m\u001b[1;33m\u001b[0m\u001b[0m\n\u001b[0m",
      "\u001b[1;31mTypeError\u001b[0m: 'TextClassificationResult' object is not iterable"
     ]
    }
   ],
   "source": [
    "overall_metrics = happy_tc.classify_text(sentimentRecord)\n",
    "overall_metrics"
   ]
  },
  {
   "cell_type": "code",
   "execution_count": 67,
   "metadata": {},
   "outputs": [
    {
     "data": {
      "text/plain": [
       "{'data': 'I love puppies!',\n",
       " 'overall': {'category': 'POSITIVE', 'intensity': 0.999830961227417},\n",
       " 'emotions': {'anger': 0.0036742445081472397,\n",
       "  'digust': 0.0012272356543689966,\n",
       "  'fear': 0.0004025532107334584,\n",
       "  'joy': 0.9811904430389404,\n",
       "  'neutral': 0.0029438126366585493,\n",
       "  'sadness': 0.006436426658183336,\n",
       "  'surprise': 0.004125282634049654},\n",
       " 'toxicity': {'isToxic': False, 'intensity': 0.993310809135437}}"
      ]
     },
     "execution_count": 67,
     "metadata": {},
     "output_type": "execute_result"
    }
   ],
   "source": [
    "metrics = {\n",
    "    \"data\": sentimentRecord,\n",
    "    \"overall\": {\n",
    "        \"category\":overall_metrics.label,\n",
    "        \"intensity\":overall_metrics.score\n",
    "    },\n",
    "    \"emotions\" : {\n",
    "        \"anger\" : emotion_metrics[0][0][\"score\"],\n",
    "        \"digust\" : emotion_metrics[0][1][\"score\"],\n",
    "        \"fear\": emotion_metrics[0][2][\"score\"],\n",
    "        \"joy\": emotion_metrics[0][3][\"score\"],\n",
    "        \"neutral\": emotion_metrics[0][4][\"score\"],\n",
    "        \"sadness\": emotion_metrics[0][5][\"score\"],\n",
    "        \"surprise\": emotion_metrics[0][6][\"score\"],\n",
    "    },\n",
    "    \"toxicity\" : {\n",
    "        \"isToxic\" : toxic_metrics[0][\"label\"] == \"toxic\",\n",
    "        \"intensity\" : toxic_metrics[0][\"score\"]\n",
    "    }\n",
    "}\n",
    "metrics"
   ]
  }
 ],
 "metadata": {
  "kernelspec": {
   "display_name": "Python 3 (ipykernel)",
   "language": "python",
   "name": "python3"
  },
  "language_info": {
   "codemirror_mode": {
    "name": "ipython",
    "version": 3
   },
   "file_extension": ".py",
   "mimetype": "text/x-python",
   "name": "python",
   "nbconvert_exporter": "python",
   "pygments_lexer": "ipython3",
   "version": "3.9.13"
  }
 },
 "nbformat": 4,
 "nbformat_minor": 2
}
