{
 "cells": [
  {
   "cell_type": "code",
   "execution_count": 37,
   "id": "50ce6af8",
   "metadata": {},
   "outputs": [],
   "source": [
    "import nltk\n",
    "from autocorrect import Speller\n",
    "from nltk.corpus import stopwords\n",
    "from nltk.stem import WordNetLemmatizer\n",
    "from nltk.stem import PorterStemmer\n",
    "import re"
   ]
  },
  {
   "cell_type": "code",
   "execution_count": 2,
   "id": "183556b0",
   "metadata": {},
   "outputs": [
    {
     "data": {
      "text/plain": [
       "'this is s test'"
      ]
     },
     "execution_count": 2,
     "metadata": {},
     "output_type": "execute_result"
    }
   ],
   "source": [
    "# Removal of whitespace\n",
    "def remove_whitespace(data : str):\n",
    "    return \" \".join(data.split())\n",
    "remove_whitespace(\"this   is s\\\n",
    "                    test\")    "
   ]
  },
  {
   "cell_type": "code",
   "execution_count": 3,
   "id": "9af8d23f",
   "metadata": {},
   "outputs": [
    {
     "data": {
      "text/plain": [
       "['I', 'do', 'really', 'really', 'hope', 'this', 'works', '!']"
      ]
     },
     "execution_count": 3,
     "metadata": {},
     "output_type": "execute_result"
    }
   ],
   "source": [
    "# Word tokenization\n",
    "def tokenize(data : str):\n",
    "    return nltk.word_tokenize(data)\n",
    "tokenize(\"I do really really hope this works!\")"
   ]
  },
  {
   "cell_type": "code",
   "execution_count": 13,
   "id": "386ab630",
   "metadata": {},
   "outputs": [
    {
     "data": {
      "text/plain": [
       "['I', 'interested', 'see', 'exactly', 'give']"
      ]
     },
     "execution_count": 13,
     "metadata": {},
     "output_type": "execute_result"
    }
   ],
   "source": [
    "# Stopword removal\n",
    "stopwords = stopwords.words('english')\n",
    "def remove_stopwords(tokens):\n",
    "    new_tokens = []\n",
    "    for t in tokens:\n",
    "        if t not in stopwords:\n",
    "            new_tokens.append(t)\n",
    "    return new_tokens\n",
    "remove_stopwords(nltk.word_tokenize(\"I am very interested to see what exactly this will give me only\"))"
   ]
  },
  {
   "cell_type": "code",
   "execution_count": 35,
   "id": "1d3d7543",
   "metadata": {},
   "outputs": [
    {
     "data": {
      "text/plain": [
       "'Check out this cool website! '"
      ]
     },
     "execution_count": 35,
     "metadata": {},
     "output_type": "execute_result"
    }
   ],
   "source": [
    "# Remove urls\n",
    "def remove_urls(text):\n",
    "    url_pattern = re.compile(r'https?://\\S+|www\\.\\S+')\n",
    "    return url_pattern.sub(r'', text)\n",
    "remove_urls(\"Check out this cool website! https://hyperperform.cs.up.ac.za/commits\")"
   ]
  },
  {
   "cell_type": "code",
   "execution_count": 6,
   "id": "4b55b89d",
   "metadata": {},
   "outputs": [
    {
     "data": {
      "text/plain": [
       "'happiness'"
      ]
     },
     "execution_count": 6,
     "metadata": {},
     "output_type": "execute_result"
    }
   ],
   "source": [
    "# Spelling Correction\n",
    "spell = Speller(lang='en')\n",
    "def correct_spelling(word : str):\n",
    "    return spell(word)\n",
    "correct_spelling(\"happpyness\")"
   ]
  },
  {
   "cell_type": "code",
   "execution_count": 31,
   "id": "dd07ee2c",
   "metadata": {},
   "outputs": [
    {
     "data": {
      "text/plain": [
       "'run'"
      ]
     },
     "execution_count": 31,
     "metadata": {},
     "output_type": "execute_result"
    }
   ],
   "source": [
    "# Lemmatization\n",
    "lemmatizer = WordNetLemmatizer()\n",
    "def lemmatize_word(word : str):\n",
    "    return lemmatizer.lemmatize(word)\n",
    "lemmatizer.lemmatize(\"runs\")"
   ]
  },
  {
   "cell_type": "code",
   "execution_count": 38,
   "id": "594af916",
   "metadata": {},
   "outputs": [
    {
     "data": {
      "text/plain": [
       "'run'"
      ]
     },
     "execution_count": 38,
     "metadata": {},
     "output_type": "execute_result"
    }
   ],
   "source": [
    "# Stemming\n",
    "porter = PorterStemmer()\n",
    "def stem_word(word :str):\n",
    "    return porter.stem(word)\n",
    "stem_word(\"running\")\n",
    "    "
   ]
  }
 ],
 "metadata": {
  "kernelspec": {
   "display_name": "Python 3 (ipykernel)",
   "language": "python",
   "name": "python3"
  },
  "language_info": {
   "codemirror_mode": {
    "name": "ipython",
    "version": 3
   },
   "file_extension": ".py",
   "mimetype": "text/x-python",
   "name": "python",
   "nbconvert_exporter": "python",
   "pygments_lexer": "ipython3",
   "version": "3.9.13"
  }
 },
 "nbformat": 4,
 "nbformat_minor": 5
}
