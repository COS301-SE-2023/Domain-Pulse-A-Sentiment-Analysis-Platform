{
 "cells": [
  {
   "cell_type": "code",
   "execution_count": 11,
   "id": "50ce6af8",
   "metadata": {},
   "outputs": [],
   "source": [
    "import nltk\n",
    "from autocorrect import Speller\n",
    "from nltk.corpus import stopwords\n",
    "from nltk.stem import WordNetLemmatizer\n",
    "from nltk.stem import PorterStemmer\n",
    "import re"
   ]
  },
  {
   "cell_type": "code",
   "execution_count": 12,
   "id": "183556b0",
   "metadata": {},
   "outputs": [
    {
     "data": {
      "text/plain": [
       "'this is s test'"
      ]
     },
     "execution_count": 12,
     "metadata": {},
     "output_type": "execute_result"
    }
   ],
   "source": [
    "# Removal of whitespace\n",
    "def remove_whitespace(data : str):\n",
    "    return \" \".join(data.split())\n",
    "remove_whitespace(\"this   is s\\\n",
    "                    test\")    "
   ]
  },
  {
   "cell_type": "code",
   "execution_count": 13,
   "id": "1d3d7543",
   "metadata": {},
   "outputs": [
    {
     "data": {
      "text/plain": [
       "'Check out this cool website! '"
      ]
     },
     "execution_count": 13,
     "metadata": {},
     "output_type": "execute_result"
    }
   ],
   "source": [
    "# Remove urls\n",
    "def remove_urls(text):\n",
    "    url_pattern = re.compile(r'https?://\\S+|www\\.\\S+')\n",
    "    return url_pattern.sub(r'', text)\n",
    "remove_urls(\"Check out this cool website! https://hyperperform.cs.up.ac.za/commits\")"
   ]
  },
  {
   "cell_type": "code",
   "execution_count": 14,
   "id": "9af8d23f",
   "metadata": {},
   "outputs": [
    {
     "data": {
      "text/plain": [
       "['I', 'do', 'really', 'really', 'hope', 'this', 'works', '!']"
      ]
     },
     "execution_count": 14,
     "metadata": {},
     "output_type": "execute_result"
    }
   ],
   "source": [
    "# Word tokenization\n",
    "def tokenize(data : str):\n",
    "    return nltk.word_tokenize(data)\n",
    "tokenize(\"I do really really hope this works!\")"
   ]
  },
  {
   "cell_type": "code",
   "execution_count": 15,
   "id": "4b55b89d",
   "metadata": {},
   "outputs": [
    {
     "data": {
      "text/plain": [
       "'happiness'"
      ]
     },
     "execution_count": 15,
     "metadata": {},
     "output_type": "execute_result"
    }
   ],
   "source": [
    "# Spelling Correction\n",
    "def correct_spelling(word : str):\n",
    "    spell = Speller(lang='en')\n",
    "    return spell(word)\n",
    "correct_spelling(\"happpyness\")"
   ]
  },
  {
   "cell_type": "code",
   "execution_count": 17,
   "id": "386ab630",
   "metadata": {},
   "outputs": [
    {
     "data": {
      "text/plain": [
       "['I', 'interested', 'see', 'exactly', 'give']"
      ]
     },
     "execution_count": 17,
     "metadata": {},
     "output_type": "execute_result"
    }
   ],
   "source": [
    "# Stopword removal\n",
    "def remove_stopwords(tokens):\n",
    "    sws = stopwords.words('english')\n",
    "    new_tokens = []\n",
    "    for t in tokens:\n",
    "        if t not in sws:\n",
    "            new_tokens.append(t)\n",
    "    return new_tokens\n",
    "remove_stopwords(nltk.word_tokenize(\"I am very interested to see what exactly this will give me only\"))"
   ]
  },
  {
   "cell_type": "code",
   "execution_count": 18,
   "id": "dd07ee2c",
   "metadata": {},
   "outputs": [
    {
     "data": {
      "text/plain": [
       "'run'"
      ]
     },
     "execution_count": 18,
     "metadata": {},
     "output_type": "execute_result"
    }
   ],
   "source": [
    "# Lemmatization\n",
    "lemmatizer = WordNetLemmatizer()\n",
    "def lemmatize_word(word : str):\n",
    "    return lemmatizer.lemmatize(word)\n",
    "lemmatizer.lemmatize(\"runs\")"
   ]
  },
  {
   "cell_type": "code",
   "execution_count": 19,
   "id": "594af916",
   "metadata": {},
   "outputs": [
    {
     "data": {
      "text/plain": [
       "'run'"
      ]
     },
     "execution_count": 19,
     "metadata": {},
     "output_type": "execute_result"
    }
   ],
   "source": [
    "# Stemming\n",
    "def stem_word(word :str):\n",
    "    porter = PorterStemmer()\n",
    "    return porter.stem(word)\n",
    "stem_word(\"running\")\n",
    "    "
   ]
  },
  {
   "cell_type": "code",
   "execution_count": 10,
   "id": "0f54dda3",
   "metadata": {},
   "outputs": [
    {
     "data": {
      "text/plain": [
       "['If',\n",
       " 'I',\n",
       " 'could',\n",
       " 'live',\n",
       " ',',\n",
       " 'I',\n",
       " 'would',\n",
       " '.',\n",
       " 'love',\n",
       " 'Starbucks',\n",
       " 'Roseland',\n",
       " 'much',\n",
       " '.',\n",
       " 'The',\n",
       " 'best',\n",
       " 'blueberry',\n",
       " 'muffin',\n",
       " 'I',\n",
       " 'ever',\n",
       " 'tasted',\n",
       " '.',\n",
       " 'Great',\n",
       " 'coffee',\n",
       " 'well',\n",
       " ':',\n",
       " '-',\n",
       " ')']"
      ]
     },
     "execution_count": 10,
     "metadata": {},
     "output_type": "execute_result"
    }
   ],
   "source": [
    "# Applying all the preprocessing steps\n",
    "sample_text = \"If I could live here, I would. i love Starbucks on Rosebank that much. The best blueberry muffins I have ever tasted. Great coffee as well :-)\"\n",
    "\n",
    "def process_data(raw_text : str):\n",
    "    new_data = remove_whitespace(sample_text)\n",
    "    new_data = remove_urls(new_data)\n",
    "    tokens = tokenize(new_data)\n",
    "    for index, token in enumerate(tokens):\n",
    "        tokens[index] = correct_spelling(token)\n",
    "    tokens = remove_stopwords(tokens)\n",
    "    for index, token in enumerate(tokens):\n",
    "        tokens[index] = lemmatize_word(token)\n",
    "#     for index, token in enumerate(tokens):\n",
    "#         tokens[index] = stem_word(token)\n",
    "    return tokens\n",
    "\n",
    "process_data(sample_text)\n",
    "    \n"
   ]
  },
  {
   "cell_type": "code",
   "execution_count": null,
   "id": "34fba715",
   "metadata": {},
   "outputs": [],
   "source": []
  }
 ],
 "metadata": {
  "kernelspec": {
   "display_name": "Python 3 (ipykernel)",
   "language": "python",
   "name": "python3"
  },
  "language_info": {
   "codemirror_mode": {
    "name": "ipython",
    "version": 3
   },
   "file_extension": ".py",
   "mimetype": "text/x-python",
   "name": "python",
   "nbconvert_exporter": "python",
   "pygments_lexer": "ipython3",
   "version": "3.9.13"
  }
 },
 "nbformat": 4,
 "nbformat_minor": 5
}
