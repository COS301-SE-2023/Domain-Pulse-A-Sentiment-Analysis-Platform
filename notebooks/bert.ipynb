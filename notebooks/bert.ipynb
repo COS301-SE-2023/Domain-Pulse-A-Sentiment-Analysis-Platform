{
 "cells": [
  {
   "cell_type": "code",
   "execution_count": 29,
   "metadata": {},
   "outputs": [
    {
     "name": "stdout",
     "output_type": "stream",
     "text": [
      "Collecting happytransformer\n",
      "  Downloading happytransformer-2.4.1-py3-none-any.whl (45 kB)\n",
      "     ---------------------------------------- 45.5/45.5 kB 2.2 MB/s eta 0:00:00\n",
      "Requirement already satisfied: tqdm>=4.43 in c:\\users\\lawso\\anaconda3\\lib\\site-packages (from happytransformer) (4.64.1)\n",
      "Collecting protobuf\n",
      "  Downloading protobuf-4.23.2-cp39-cp39-win_amd64.whl (422 kB)\n",
      "     -------------------------------------- 422.5/422.5 kB 6.5 MB/s eta 0:00:00\n",
      "Collecting sentencepiece\n",
      "  Downloading sentencepiece-0.1.99-cp39-cp39-win_amd64.whl (977 kB)\n",
      "     -------------------------------------- 977.6/977.6 kB 5.6 MB/s eta 0:00:00\n",
      "Collecting datasets>=1.6.0\n",
      "  Downloading datasets-2.12.0-py3-none-any.whl (474 kB)\n",
      "     -------------------------------------- 474.6/474.6 kB 7.4 MB/s eta 0:00:00\n",
      "Requirement already satisfied: torch>=1.0 in c:\\users\\lawso\\anaconda3\\lib\\site-packages (from happytransformer) (2.0.1)\n",
      "Requirement already satisfied: transformers>=4.4.0 in c:\\users\\lawso\\anaconda3\\lib\\site-packages (from happytransformer) (4.29.2)\n",
      "Collecting aiohttp\n",
      "  Downloading aiohttp-3.8.4-cp39-cp39-win_amd64.whl (323 kB)\n",
      "     -------------------------------------- 323.6/323.6 kB 4.0 MB/s eta 0:00:00\n",
      "Requirement already satisfied: dill<0.3.7,>=0.3.0 in c:\\users\\lawso\\anaconda3\\lib\\site-packages (from datasets>=1.6.0->happytransformer) (0.3.4)\n",
      "Requirement already satisfied: packaging in c:\\users\\lawso\\anaconda3\\lib\\site-packages (from datasets>=1.6.0->happytransformer) (21.3)\n",
      "Requirement already satisfied: fsspec[http]>=2021.11.1 in c:\\users\\lawso\\anaconda3\\lib\\site-packages (from datasets>=1.6.0->happytransformer) (2022.7.1)\n",
      "Requirement already satisfied: numpy>=1.17 in c:\\users\\lawso\\anaconda3\\lib\\site-packages (from datasets>=1.6.0->happytransformer) (1.21.5)\n",
      "Collecting responses<0.19\n",
      "  Downloading responses-0.18.0-py3-none-any.whl (38 kB)\n",
      "Requirement already satisfied: pandas in c:\\users\\lawso\\anaconda3\\lib\\site-packages (from datasets>=1.6.0->happytransformer) (1.4.4)\n",
      "Requirement already satisfied: huggingface-hub<1.0.0,>=0.11.0 in c:\\users\\lawso\\anaconda3\\lib\\site-packages (from datasets>=1.6.0->happytransformer) (0.14.1)\n",
      "Collecting xxhash\n",
      "  Downloading xxhash-3.2.0-cp39-cp39-win_amd64.whl (30 kB)\n",
      "Requirement already satisfied: requests>=2.19.0 in c:\\users\\lawso\\anaconda3\\lib\\site-packages (from datasets>=1.6.0->happytransformer) (2.28.1)\n",
      "Requirement already satisfied: pyyaml>=5.1 in c:\\users\\lawso\\anaconda3\\lib\\site-packages (from datasets>=1.6.0->happytransformer) (6.0)\n",
      "Collecting pyarrow>=8.0.0\n",
      "  Downloading pyarrow-12.0.0-cp39-cp39-win_amd64.whl (21.5 MB)\n",
      "     ---------------------------------------- 21.5/21.5 MB 4.7 MB/s eta 0:00:00\n",
      "Collecting multiprocess\n",
      "  Downloading multiprocess-0.70.14-py39-none-any.whl (132 kB)\n",
      "     -------------------------------------- 132.9/132.9 kB 7.7 MB/s eta 0:00:00\n",
      "Requirement already satisfied: filelock in c:\\users\\lawso\\anaconda3\\lib\\site-packages (from torch>=1.0->happytransformer) (3.6.0)\n",
      "Requirement already satisfied: typing-extensions in c:\\users\\lawso\\anaconda3\\lib\\site-packages (from torch>=1.0->happytransformer) (4.3.0)\n",
      "Requirement already satisfied: sympy in c:\\users\\lawso\\anaconda3\\lib\\site-packages (from torch>=1.0->happytransformer) (1.10.1)\n",
      "Requirement already satisfied: jinja2 in c:\\users\\lawso\\anaconda3\\lib\\site-packages (from torch>=1.0->happytransformer) (2.11.3)\n",
      "Requirement already satisfied: networkx in c:\\users\\lawso\\anaconda3\\lib\\site-packages (from torch>=1.0->happytransformer) (2.8.4)\n",
      "Requirement already satisfied: colorama in c:\\users\\lawso\\anaconda3\\lib\\site-packages (from tqdm>=4.43->happytransformer) (0.4.5)\n",
      "Requirement already satisfied: regex!=2019.12.17 in c:\\users\\lawso\\anaconda3\\lib\\site-packages (from transformers>=4.4.0->happytransformer) (2022.7.9)\n",
      "Requirement already satisfied: tokenizers!=0.11.3,<0.14,>=0.11.1 in c:\\users\\lawso\\anaconda3\\lib\\site-packages (from transformers>=4.4.0->happytransformer) (0.13.3)\n",
      "Requirement already satisfied: pyparsing!=3.0.5,>=2.0.2 in c:\\users\\lawso\\anaconda3\\lib\\site-packages (from packaging->datasets>=1.6.0->happytransformer) (3.0.9)\n",
      "Requirement already satisfied: certifi>=2017.4.17 in c:\\users\\lawso\\anaconda3\\lib\\site-packages (from requests>=2.19.0->datasets>=1.6.0->happytransformer) (2022.9.14)\n",
      "Requirement already satisfied: idna<4,>=2.5 in c:\\users\\lawso\\anaconda3\\lib\\site-packages (from requests>=2.19.0->datasets>=1.6.0->happytransformer) (3.3)\n",
      "Requirement already satisfied: urllib3<1.27,>=1.21.1 in c:\\users\\lawso\\anaconda3\\lib\\site-packages (from requests>=2.19.0->datasets>=1.6.0->happytransformer) (1.26.11)\n",
      "Requirement already satisfied: charset-normalizer<3,>=2 in c:\\users\\lawso\\anaconda3\\lib\\site-packages (from requests>=2.19.0->datasets>=1.6.0->happytransformer) (2.0.4)\n",
      "Requirement already satisfied: attrs>=17.3.0 in c:\\users\\lawso\\anaconda3\\lib\\site-packages (from aiohttp->datasets>=1.6.0->happytransformer) (21.4.0)\n",
      "Collecting yarl<2.0,>=1.0\n",
      "  Downloading yarl-1.9.2-cp39-cp39-win_amd64.whl (61 kB)\n",
      "     ---------------------------------------- 61.7/61.7 kB ? eta 0:00:00\n",
      "Collecting async-timeout<5.0,>=4.0.0a3\n",
      "  Downloading async_timeout-4.0.2-py3-none-any.whl (5.8 kB)\n",
      "Collecting frozenlist>=1.1.1\n",
      "  Downloading frozenlist-1.3.3-cp39-cp39-win_amd64.whl (34 kB)\n",
      "Collecting aiosignal>=1.1.2\n",
      "  Downloading aiosignal-1.3.1-py3-none-any.whl (7.6 kB)\n",
      "Collecting multidict<7.0,>=4.5\n",
      "  Downloading multidict-6.0.4-cp39-cp39-win_amd64.whl (28 kB)\n",
      "Requirement already satisfied: MarkupSafe>=0.23 in c:\\users\\lawso\\anaconda3\\lib\\site-packages (from jinja2->torch>=1.0->happytransformer) (2.0.1)\n",
      "Collecting dill<0.3.7,>=0.3.0\n",
      "  Downloading dill-0.3.6-py3-none-any.whl (110 kB)\n",
      "     ---------------------------------------- 110.5/110.5 kB ? eta 0:00:00\n",
      "Requirement already satisfied: python-dateutil>=2.8.1 in c:\\users\\lawso\\anaconda3\\lib\\site-packages (from pandas->datasets>=1.6.0->happytransformer) (2.8.2)\n",
      "Requirement already satisfied: pytz>=2020.1 in c:\\users\\lawso\\anaconda3\\lib\\site-packages (from pandas->datasets>=1.6.0->happytransformer) (2022.1)\n",
      "Requirement already satisfied: mpmath>=0.19 in c:\\users\\lawso\\anaconda3\\lib\\site-packages (from sympy->torch>=1.0->happytransformer) (1.2.1)\n",
      "Requirement already satisfied: six>=1.5 in c:\\users\\lawso\\anaconda3\\lib\\site-packages (from python-dateutil>=2.8.1->pandas->datasets>=1.6.0->happytransformer) (1.16.0)\n",
      "Installing collected packages: sentencepiece, xxhash, pyarrow, protobuf, multidict, frozenlist, dill, async-timeout, yarl, responses, multiprocess, aiosignal, aiohttp, datasets, happytransformer\n",
      "  Attempting uninstall: dill\n",
      "    Found existing installation: dill 0.3.4\n",
      "    Uninstalling dill-0.3.4:\n",
      "      Successfully uninstalled dill-0.3.4\n",
      "Successfully installed aiohttp-3.8.4 aiosignal-1.3.1 async-timeout-4.0.2 datasets-2.12.0 dill-0.3.6 frozenlist-1.3.3 happytransformer-2.4.1 multidict-6.0.4 multiprocess-0.70.14 protobuf-4.23.2 pyarrow-12.0.0 responses-0.18.0 sentencepiece-0.1.99 xxhash-3.2.0 yarl-1.9.2\n"
     ]
    }
   ],
   "source": [
    "! pip install happytransformer"
   ]
  },
  {
   "cell_type": "code",
   "execution_count": 30,
   "metadata": {},
   "outputs": [],
   "source": [
    "from transformers import pipeline, AutoModelForSequenceClassification, AutoTokenizer, TextClassificationPipeline, DistilBertTokenizer, DistilBertForSequenceClassification\n",
    "import torch\n",
    "from happytransformer import HappyTextClassification "
   ]
  },
  {
   "cell_type": "code",
   "execution_count": 15,
   "metadata": {},
   "outputs": [],
   "source": [
    "sentimentRecord = \"Sucks to suck loser!\""
   ]
  },
  {
   "cell_type": "code",
   "execution_count": 16,
   "metadata": {},
   "outputs": [],
   "source": [
    "# To classify emotion\n",
    "emotion_classifier = pipeline(\"text-classification\", model=\"j-hartmann/emotion-english-distilroberta-base\", return_all_scores=True)"
   ]
  },
  {
   "cell_type": "code",
   "execution_count": 17,
   "metadata": {},
   "outputs": [
    {
     "data": {
      "text/plain": [
       "[[{'label': 'anger', 'score': 0.371420294046402},\n",
       "  {'label': 'disgust', 'score': 0.5763006210327148},\n",
       "  {'label': 'fear', 'score': 0.004816171247512102},\n",
       "  {'label': 'joy', 'score': 0.0023134469520300627},\n",
       "  {'label': 'neutral', 'score': 0.011871281079947948},\n",
       "  {'label': 'sadness', 'score': 0.03086276538670063},\n",
       "  {'label': 'surprise', 'score': 0.0024154267739504576}]]"
      ]
     },
     "execution_count": 17,
     "metadata": {},
     "output_type": "execute_result"
    }
   ],
   "source": [
    "emotion_classifier(sentimentRecord)"
   ]
  },
  {
   "cell_type": "code",
   "execution_count": 18,
   "metadata": {},
   "outputs": [],
   "source": [
    "# To classify if toxic\n",
    "tokenizer = AutoTokenizer.from_pretrained(\"martin-ha/toxic-comment-model\")\n",
    "toxic_model = AutoModelForSequenceClassification.from_pretrained(\"martin-ha/toxic-comment-model\")\n",
    "toxic_classifier =  TextClassificationPipeline(model=toxic_model, tokenizer=tokenizer)\n",
    "\n"
   ]
  },
  {
   "cell_type": "code",
   "execution_count": 19,
   "metadata": {},
   "outputs": [
    {
     "data": {
      "text/plain": [
       "[{'label': 'toxic', 'score': 0.9608501195907593}]"
      ]
     },
     "execution_count": 19,
     "metadata": {},
     "output_type": "execute_result"
    }
   ],
   "source": [
    "toxic_classifier(sentimentRecord)"
   ]
  },
  {
   "cell_type": "code",
   "execution_count": 39,
   "metadata": {},
   "outputs": [
    {
     "data": {
      "application/vnd.jupyter.widget-view+json": {
       "model_id": "310ca9efe34948c1a8a39713ae985203",
       "version_major": 2,
       "version_minor": 0
      },
      "text/plain": [
       "Downloading (…)lve/main/config.json:   0%|          | 0.00/758 [00:00<?, ?B/s]"
      ]
     },
     "metadata": {},
     "output_type": "display_data"
    },
    {
     "data": {
      "application/vnd.jupyter.widget-view+json": {
       "model_id": "86d4e5c7db014c25864dcca1ebe0d418",
       "version_major": 2,
       "version_minor": 0
      },
      "text/plain": [
       "Downloading pytorch_model.bin:   0%|          | 0.00/438M [00:00<?, ?B/s]"
      ]
     },
     "metadata": {},
     "output_type": "display_data"
    },
    {
     "data": {
      "application/vnd.jupyter.widget-view+json": {
       "model_id": "e3e5d03698484c44a32e97e5c77beb9b",
       "version_major": 2,
       "version_minor": 0
      },
      "text/plain": [
       "Downloading (…)okenizer_config.json:   0%|          | 0.00/252 [00:00<?, ?B/s]"
      ]
     },
     "metadata": {},
     "output_type": "display_data"
    },
    {
     "data": {
      "application/vnd.jupyter.widget-view+json": {
       "model_id": "d9bb007dd82c49608f65f180793d3193",
       "version_major": 2,
       "version_minor": 0
      },
      "text/plain": [
       "Downloading (…)solve/main/vocab.txt:   0%|          | 0.00/232k [00:00<?, ?B/s]"
      ]
     },
     "metadata": {},
     "output_type": "display_data"
    },
    {
     "data": {
      "application/vnd.jupyter.widget-view+json": {
       "model_id": "23fe23b69da14133b26b4acf74b04954",
       "version_major": 2,
       "version_minor": 0
      },
      "text/plain": [
       "Downloading (…)cial_tokens_map.json:   0%|          | 0.00/112 [00:00<?, ?B/s]"
      ]
     },
     "metadata": {},
     "output_type": "display_data"
    },
    {
     "name": "stderr",
     "output_type": "stream",
     "text": [
      "05/28/2023 11:54:57 - INFO - happytransformer.happy_transformer -   Using model: cpu\n"
     ]
    }
   ],
   "source": [
    "# For overall positive or negative\n",
    "happy_tc = HappyTextClassification(model_type=\"DISTILBERT\", \"ProsusAI/finbert\", num_labels=3)"
   ]
  },
  {
   "cell_type": "code",
   "execution_count": 42,
   "metadata": {},
   "outputs": [
    {
     "data": {
      "text/plain": [
       "TextClassificationResult(label='negative', score=0.9680216908454895)"
      ]
     },
     "execution_count": 42,
     "metadata": {},
     "output_type": "execute_result"
    }
   ],
   "source": [
    "result = happy_tc.classify_text(\"Tesla's stock just decreased by 20%\")\n",
    "result"
   ]
  },
  {
   "cell_type": "code",
   "execution_count": null,
   "metadata": {},
   "outputs": [],
   "source": []
  }
 ],
 "metadata": {
  "kernelspec": {
   "display_name": "Python 3 (ipykernel)",
   "language": "python",
   "name": "python3"
  },
  "language_info": {
   "codemirror_mode": {
    "name": "ipython",
    "version": 3
   },
   "file_extension": ".py",
   "mimetype": "text/x-python",
   "name": "python",
   "nbconvert_exporter": "python",
   "pygments_lexer": "ipython3",
   "version": "3.9.13"
  }
 },
 "nbformat": 4,
 "nbformat_minor": 2
}
