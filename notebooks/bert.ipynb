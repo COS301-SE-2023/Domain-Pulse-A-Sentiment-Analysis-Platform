{
 "cells": [
  {
   "cell_type": "code",
   "execution_count": 1,
   "metadata": {},
   "outputs": [],
   "source": [
    "%run Preprocessing.ipynb"
   ]
  },
  {
   "cell_type": "code",
   "execution_count": 2,
   "metadata": {},
   "outputs": [],
   "source": [
    "from transformers import pipeline, AutoModelForSequenceClassification, AutoTokenizer, TextClassificationPipeline, DistilBertTokenizer, DistilBertForSequenceClassification\n",
    "import torch\n",
    "from happytransformer import HappyTextClassification"
   ]
  },
  {
   "cell_type": "code",
   "execution_count": 20,
   "metadata": {},
   "outputs": [],
   "source": [
    "sentimentRecord = \"I hate this product!\""
   ]
  },
  {
   "cell_type": "code",
   "execution_count": 13,
   "metadata": {},
   "outputs": [],
   "source": [
    "# To classify emotion\n",
    "emotion_classifier = pipeline(\"text-classification\", model=\"j-hartmann/emotion-english-distilroberta-base\", return_all_scores=True)"
   ]
  },
  {
   "cell_type": "code",
   "execution_count": 14,
   "metadata": {},
   "outputs": [
    {
     "data": {
      "text/plain": [
       "[[{'label': 'anger', 'score': 0.1139894425868988},\n",
       "  {'label': 'disgust', 'score': 0.06430400907993317},\n",
       "  {'label': 'fear', 'score': 0.32141345739364624},\n",
       "  {'label': 'joy', 'score': 0.09722688794136047},\n",
       "  {'label': 'neutral', 'score': 0.2678925096988678},\n",
       "  {'label': 'sadness', 'score': 0.09597740322351456},\n",
       "  {'label': 'surprise', 'score': 0.039196278899908066}],\n",
       " [{'label': 'anger', 'score': 0.6882667541503906},\n",
       "  {'label': 'disgust', 'score': 0.24790909886360168},\n",
       "  {'label': 'fear', 'score': 0.005835611838847399},\n",
       "  {'label': 'joy', 'score': 0.002209014492109418},\n",
       "  {'label': 'neutral', 'score': 0.04385418817400932},\n",
       "  {'label': 'sadness', 'score': 0.009062155149877071},\n",
       "  {'label': 'surprise', 'score': 0.0028630271553993225}],\n",
       " [{'label': 'anger', 'score': 0.009969945065677166},\n",
       "  {'label': 'disgust', 'score': 0.007473483681678772},\n",
       "  {'label': 'fear', 'score': 0.0034124599769711494},\n",
       "  {'label': 'joy', 'score': 0.02103567123413086},\n",
       "  {'label': 'neutral', 'score': 0.8812554478645325},\n",
       "  {'label': 'sadness', 'score': 0.03859858959913254},\n",
       "  {'label': 'surprise', 'score': 0.03825441375374794}],\n",
       " [{'label': 'anger', 'score': 0.39685341715812683},\n",
       "  {'label': 'disgust', 'score': 0.028615418821573257},\n",
       "  {'label': 'fear', 'score': 0.019808560609817505},\n",
       "  {'label': 'joy', 'score': 0.11958011239767075},\n",
       "  {'label': 'neutral', 'score': 0.06495976448059082},\n",
       "  {'label': 'sadness', 'score': 0.022131938487291336},\n",
       "  {'label': 'surprise', 'score': 0.3480508625507355}]]"
      ]
     },
     "execution_count": 14,
     "metadata": {},
     "output_type": "execute_result"
    }
   ],
   "source": [
    "emotion_metrics = emotion_classifier(sentimentRecord)\n",
    "emotion_metrics"
   ]
  },
  {
   "cell_type": "code",
   "execution_count": 15,
   "metadata": {},
   "outputs": [],
   "source": [
    "# To classify if toxic\n",
    "tokenizer = AutoTokenizer.from_pretrained(\"martin-ha/toxic-comment-model\")\n",
    "toxic_model = AutoModelForSequenceClassification.from_pretrained(\"martin-ha/toxic-comment-model\")\n",
    "toxic_classifier =  TextClassificationPipeline(model=toxic_model, tokenizer=tokenizer)\n"
   ]
  },
  {
   "cell_type": "code",
   "execution_count": 16,
   "metadata": {},
   "outputs": [
    {
     "data": {
      "text/plain": [
       "[{'label': 'non-toxic', 'score': 0.9989055395126343},\n",
       " {'label': 'non-toxic', 'score': 0.9147370457649231},\n",
       " {'label': 'non-toxic', 'score': 0.999015212059021},\n",
       " {'label': 'non-toxic', 'score': 0.9983499050140381}]"
      ]
     },
     "execution_count": 16,
     "metadata": {},
     "output_type": "execute_result"
    }
   ],
   "source": [
    "toxic_metrics = toxic_classifier(sentimentRecord)\n",
    "toxic_metrics"
   ]
  },
  {
   "cell_type": "code",
   "execution_count": 21,
   "metadata": {},
   "outputs": [
    {
     "name": "stderr",
     "output_type": "stream",
     "text": [
      "06/01/2023 08:50:09 - INFO - happytransformer.happy_transformer -   Using model: cpu\n"
     ]
    }
   ],
   "source": [
    "# For overall positive or negative\n",
    "happy_tc = HappyTextClassification(model_type=\"DISTILBERT\", model_name=\"distilbert-base-uncased-finetuned-sst-2-english\", num_labels=2)"
   ]
  },
  {
   "cell_type": "code",
   "execution_count": 22,
   "metadata": {},
   "outputs": [
    {
     "data": {
      "text/plain": [
       "TextClassificationResult(label='NEGATIVE', score=0.9997503161430359)"
      ]
     },
     "execution_count": 22,
     "metadata": {},
     "output_type": "execute_result"
    }
   ],
   "source": [
    "overall_metrics = happy_tc.classify_text(sentimentRecord)\n",
    "overall_metrics"
   ]
  },
  {
   "cell_type": "code",
   "execution_count": 23,
   "metadata": {},
   "outputs": [
    {
     "data": {
      "text/plain": [
       "{'data': ['I', 'hate', 'product', '!'],\n",
       " 'overall': {'category': 'NEGATIVE', 'intensity': 0.9997503161430359},\n",
       " 'emotions': {'anger': 0.1139894425868988,\n",
       "  'digust': 0.06430400907993317,\n",
       "  'fear': 0.32141345739364624,\n",
       "  'joy': 0.09722688794136047,\n",
       "  'neutral': 0.2678925096988678,\n",
       "  'sadness': 0.09597740322351456,\n",
       "  'surprise': 0.039196278899908066},\n",
       " 'toxicity': {'isToxic': False, 'intensity': 0.9989055395126343}}"
      ]
     },
     "execution_count": 23,
     "metadata": {},
     "output_type": "execute_result"
    }
   ],
   "source": [
    "sentimentRecord = process_data(sentimentRecord)\n",
    "metrics = {\n",
    "    \"data\": sentimentRecord,\n",
    "    \"overall\": {\n",
    "        \"category\":overall_metrics.label,\n",
    "        \"intensity\":overall_metrics.score\n",
    "    },\n",
    "    \"emotions\" : {\n",
    "        \"anger\" : emotion_metrics[0][0][\"score\"],\n",
    "        \"digust\" : emotion_metrics[0][1][\"score\"],\n",
    "        \"fear\": emotion_metrics[0][2][\"score\"],\n",
    "        \"joy\": emotion_metrics[0][3][\"score\"],\n",
    "        \"neutral\": emotion_metrics[0][4][\"score\"],\n",
    "        \"sadness\": emotion_metrics[0][5][\"score\"],\n",
    "        \"surprise\": emotion_metrics[0][6][\"score\"],\n",
    "    },\n",
    "    \"toxicity\" : {\n",
    "        \"isToxic\" : toxic_metrics[0][\"label\"] == \"toxic\",\n",
    "        \"intensity\" : toxic_metrics[0][\"score\"]\n",
    "    }\n",
    "}\n",
    "metrics"
   ]
  },
  {
   "cell_type": "code",
   "execution_count": null,
   "metadata": {},
   "outputs": [],
   "source": []
  }
 ],
 "metadata": {
  "kernelspec": {
   "display_name": "Python 3 (ipykernel)",
   "language": "python",
   "name": "python3"
  },
  "language_info": {
   "codemirror_mode": {
    "name": "ipython",
    "version": 3
   },
   "file_extension": ".py",
   "mimetype": "text/x-python",
   "name": "python",
   "nbconvert_exporter": "python",
   "pygments_lexer": "ipython3",
   "version": "3.8.16"
  }
 },
 "nbformat": 4,
 "nbformat_minor": 2
}
