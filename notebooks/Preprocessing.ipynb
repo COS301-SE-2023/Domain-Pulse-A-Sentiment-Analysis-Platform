{
 "cells": [
  {
   "cell_type": "code",
   "execution_count": 1,
   "id": "70a789e4",
   "metadata": {},
   "outputs": [],
   "source": [
    "import nltk\n",
    "from autocorrect import Speller"
   ]
  },
  {
   "cell_type": "code",
   "execution_count": 2,
   "id": "1fdb72aa",
   "metadata": {},
   "outputs": [
    {
     "data": {
      "text/plain": [
       "'this is s test'"
      ]
     },
     "execution_count": 2,
     "metadata": {},
     "output_type": "execute_result"
    }
   ],
   "source": [
    "# Removal of whitespace\n",
    "def remove_whitespace(data : str):\n",
    "    return \" \".join(data.split())\n",
    "remove_whitespace(\"this   is s\\\n",
    "                    test\")    "
   ]
  },
  {
   "cell_type": "code",
   "execution_count": 3,
   "id": "848f0505",
   "metadata": {},
   "outputs": [
    {
     "data": {
      "text/plain": [
       "['I', 'do', 'really', 'really', 'hope', 'this', 'works', '!']"
      ]
     },
     "execution_count": 3,
     "metadata": {},
     "output_type": "execute_result"
    }
   ],
   "source": [
    "# Word tokenization\n",
    "def tokenize(data : str):\n",
    "    return nltk.word_tokenize(data)\n",
    "tokenize(\"I do really really hope this works!\")"
   ]
  },
  {
   "cell_type": "code",
   "execution_count": 6,
   "id": "18791525",
   "metadata": {},
   "outputs": [
    {
     "data": {
      "text/plain": [
       "'happiness'"
      ]
     },
     "execution_count": 6,
     "metadata": {},
     "output_type": "execute_result"
    }
   ],
   "source": [
    "# Spelling Correction\n",
    "spell = Speller(lang='en')\n",
    "def correct_spelling(word : str):\n",
    "    return spell(word)\n",
    "correct_spelling(\"happpyness\")"
   ]
  },
  {
   "cell_type": "code",
   "execution_count": null,
   "id": "1855a63a",
   "metadata": {},
   "outputs": [],
   "source": []
  }
 ],
 "metadata": {
  "kernelspec": {
   "display_name": "Python 3 (ipykernel)",
   "language": "python",
   "name": "python3"
  },
  "language_info": {
   "codemirror_mode": {
    "name": "ipython",
    "version": 3
   },
   "file_extension": ".py",
   "mimetype": "text/x-python",
   "name": "python",
   "nbconvert_exporter": "python",
   "pygments_lexer": "ipython3",
   "version": "3.9.13"
  }
 },
 "nbformat": 4,
 "nbformat_minor": 5
}
