{
 "cells": [
  {
   "cell_type": "code",
   "execution_count": 19,
   "id": "33e6019e",
   "metadata": {},
   "outputs": [],
   "source": [
    "import nltk\n",
    "from autocorrect import Speller\n",
    "from nltk.corpus import stopwords\n",
    "from nltk.stem import WordNetLemmatizer"
   ]
  },
  {
   "cell_type": "code",
   "execution_count": 2,
   "id": "fd1bb37d",
   "metadata": {},
   "outputs": [
    {
     "data": {
      "text/plain": [
       "'this is s test'"
      ]
     },
     "execution_count": 2,
     "metadata": {},
     "output_type": "execute_result"
    }
   ],
   "source": [
    "# Removal of whitespace\n",
    "def remove_whitespace(data : str):\n",
    "    return \" \".join(data.split())\n",
    "remove_whitespace(\"this   is s\\\n",
    "                    test\")    "
   ]
  },
  {
   "cell_type": "code",
   "execution_count": 3,
   "id": "9a0cb42b",
   "metadata": {},
   "outputs": [
    {
     "data": {
      "text/plain": [
       "['I', 'do', 'really', 'really', 'hope', 'this', 'works', '!']"
      ]
     },
     "execution_count": 3,
     "metadata": {},
     "output_type": "execute_result"
    }
   ],
   "source": [
    "# Word tokenization\n",
    "def tokenize(data : str):\n",
    "    return nltk.word_tokenize(data)\n",
    "tokenize(\"I do really really hope this works!\")"
   ]
  },
  {
   "cell_type": "code",
   "execution_count": 6,
   "id": "d97d03d4",
   "metadata": {},
   "outputs": [
    {
     "data": {
      "text/plain": [
       "'happiness'"
      ]
     },
     "execution_count": 6,
     "metadata": {},
     "output_type": "execute_result"
    }
   ],
   "source": [
    "# Spelling Correction\n",
    "spell = Speller(lang='en')\n",
    "def correct_spelling(word : str):\n",
    "    return spell(word)\n",
    "correct_spelling(\"happpyness\")"
   ]
  },
  {
   "cell_type": "code",
   "execution_count": 13,
   "id": "48e07fbb",
   "metadata": {},
   "outputs": [
    {
     "data": {
      "text/plain": [
       "['I', 'interested', 'see', 'exactly', 'give']"
      ]
     },
     "execution_count": 13,
     "metadata": {},
     "output_type": "execute_result"
    }
   ],
   "source": [
    "# Stopword removal\n",
    "stopwords = stopwords.words('english')\n",
    "def remove_stopwords(tokens):\n",
    "    new_tokens = []\n",
    "    for t in tokens:\n",
    "        if t not in stopwords:\n",
    "            new_tokens.append(t)\n",
    "    return new_tokens\n",
    "remove_stopwords(nltk.word_tokenize(\"I am very interested to see what exactly this will give me only\"))"
   ]
  },
  {
   "cell_type": "code",
   "execution_count": 26,
   "id": "1dc333b1",
   "metadata": {},
   "outputs": [
    {
     "data": {
      "text/plain": [
       "['running']"
      ]
     },
     "execution_count": 26,
     "metadata": {},
     "output_type": "execute_result"
    }
   ],
   "source": [
    "# Lemmatization\n",
    "lemmatizer = WordNetLemmatizer()\n",
    "def lemmatize_word(word : str):\n",
    "    word, part_of_speech = nltk.pos_tag(word)\n",
    "    counter = 0\n",
    "    for token, part_of_speech in nltk.pos_tag(tokens):\n",
    "        if part_of_speech.lower() not in ['a', 'r', 'n', 'v']:\n",
    "            part_of_speech='n'   \n",
    "        tokens[counter] = lemmatizer.lemmatize(token,part_of_speech)\n",
    "        counter += 1\n",
    "    return tokens\n",
    "lemmatize_text(nltk.word_tokenize(\"running\"))"
   ]
  },
  {
   "cell_type": "code",
   "execution_count": null,
   "id": "c1d24585",
   "metadata": {},
   "outputs": [],
   "source": []
  }
 ],
 "metadata": {
  "kernelspec": {
   "display_name": "Python 3 (ipykernel)",
   "language": "python",
   "name": "python3"
  },
  "language_info": {
   "codemirror_mode": {
    "name": "ipython",
    "version": 3
   },
   "file_extension": ".py",
   "mimetype": "text/x-python",
   "name": "python",
   "nbconvert_exporter": "python",
   "pygments_lexer": "ipython3",
   "version": "3.9.13"
  }
 },
 "nbformat": 4,
 "nbformat_minor": 5
}
